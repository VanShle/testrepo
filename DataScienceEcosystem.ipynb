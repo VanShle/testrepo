{
 "cells": [
  {
   "cell_type": "markdown",
   "id": "1669ba02-f7f9-4965-8f09-74e53754ea43",
   "metadata": {},
   "source": [
    "# Data Science Tools and Ecosystem"
   ]
  },
  {
   "cell_type": "markdown",
   "id": "acb23519-01ec-4488-8050-a78d1a0141f4",
   "metadata": {},
   "source": [
    "In this notebook, Data Science Tools and Ecosystem are summarized."
   ]
  },
  {
   "cell_type": "markdown",
   "id": "ec3f487b-7b4b-4253-9f98-e64d14ae3d3f",
   "metadata": {},
   "source": [
    "Some of the popular languages that Data Scientists use are:\n",
    "1. Python\n",
    "2. SQL\n",
    "3. R"
   ]
  },
  {
   "cell_type": "markdown",
   "id": "56e17c90-c991-4365-8b33-0d23b280a9de",
   "metadata": {},
   "source": [
    "Some of the commonly used libraries used by Data Scientists include:\n",
    "1. Lattice\n",
    "2. ggplot2\n",
    "3. Pandas\n",
    "4. Tensorflow"
   ]
  },
  {
   "cell_type": "markdown",
   "id": "00e3b4d2-b2e8-49f5-af13-897983a500b9",
   "metadata": {},
   "source": [
    "| Data Science Tools |\n",
    "| ----------------------- |\n",
    "| RStudio |\n",
    "| JupyterNotebook |\n",
    "| Anaconda |"
   ]
  },
  {
   "cell_type": "markdown",
   "id": "7eff1b72-57e6-4f20-ad8c-4b970cc54bcb",
   "metadata": {},
   "source": [
    "### Below are a few examples of evaluating arithmetic expressions in Python"
   ]
  },
  {
   "cell_type": "code",
   "execution_count": 1,
   "id": "22cc0310-ac6d-4fb8-8f26-1d2d8114df2a",
   "metadata": {},
   "outputs": [
    {
     "data": {
      "text/plain": [
       "17"
      ]
     },
     "execution_count": 1,
     "metadata": {},
     "output_type": "execute_result"
    }
   ],
   "source": [
    "(3*4)+5"
   ]
  },
  {
   "cell_type": "markdown",
   "id": "7a712db9-7a45-484e-92b8-689ecd050cf1",
   "metadata": {},
   "source": [
    "This a simple arithmetic expression to mutiply then add integers"
   ]
  },
  {
   "cell_type": "code",
   "execution_count": 6,
   "id": "8ee35cd5-b354-41fb-9d16-18375fbf666a",
   "metadata": {},
   "outputs": [
    {
     "data": {
      "text/plain": [
       "3.3333333333333335"
      ]
     },
     "execution_count": 6,
     "metadata": {},
     "output_type": "execute_result"
    }
   ],
   "source": [
    "minutes = 200 \n",
    "hours = minutes / 60\n",
    "hours "
   ]
  },
  {
   "cell_type": "markdown",
   "id": "6f9388b6-a51f-455e-96e2-f217c63af81e",
   "metadata": {},
   "source": [
    "This will convert 200 minutes to hours by diving by 60"
   ]
  },
  {
   "cell_type": "markdown",
   "id": "18ab0c99-cd56-4e54-abe3-eb6eabab7322",
   "metadata": {},
   "source": [
    "**Objectives:**"
   ]
  },
  {
   "cell_type": "markdown",
   "id": "4095b5e2-c258-477c-b20d-a29e4dde2a48",
   "metadata": {},
   "source": [
    "- List of popular languages in data science\n",
    "- List of different softwares used in data science\n",
    "- Developped an understanding of packages, api's, data sets and models. "
   ]
  },
  {
   "cell_type": "markdown",
   "id": "9a3fc6a6-f9fe-461a-ba02-26172c4f0c89",
   "metadata": {},
   "source": [
    "## Author: Shlesha Van"
   ]
  },
  {
   "cell_type": "code",
   "execution_count": null,
   "id": "8c9d62f3-fa36-465d-9af0-cdb3a4380697",
   "metadata": {},
   "outputs": [],
   "source": []
  }
 ],
 "metadata": {
  "kernelspec": {
   "display_name": "Python 3 (ipykernel)",
   "language": "python",
   "name": "python3"
  },
  "language_info": {
   "codemirror_mode": {
    "name": "ipython",
    "version": 3
   },
   "file_extension": ".py",
   "mimetype": "text/x-python",
   "name": "python",
   "nbconvert_exporter": "python",
   "pygments_lexer": "ipython3",
   "version": "3.12.7"
  }
 },
 "nbformat": 4,
 "nbformat_minor": 5
}
